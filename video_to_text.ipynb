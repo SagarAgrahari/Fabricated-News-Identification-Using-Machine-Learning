{
 "cells": [
  {
   "cell_type": "code",
   "execution_count": 14,
   "id": "3143cf35",
   "metadata": {},
   "outputs": [
    {
     "name": "stdout",
     "output_type": "stream",
     "text": [
      "Requirement already satisfied: ibm-watson in /home/rahul/anaconda3/lib/python3.9/site-packages (6.1.0)\n",
      "Requirement already satisfied: requests<3.0,>=2.0 in /home/rahul/anaconda3/lib/python3.9/site-packages (from ibm-watson) (2.28.1)\n",
      "Requirement already satisfied: websocket-client==1.1.0 in /home/rahul/anaconda3/lib/python3.9/site-packages (from ibm-watson) (1.1.0)\n",
      "Requirement already satisfied: ibm-cloud-sdk-core==3.*,>=3.3.6 in /home/rahul/anaconda3/lib/python3.9/site-packages (from ibm-watson) (3.16.2)\n",
      "Requirement already satisfied: python-dateutil>=2.5.3 in /home/rahul/anaconda3/lib/python3.9/site-packages (from ibm-watson) (2.8.2)\n",
      "Requirement already satisfied: PyJWT<3.0.0,>=2.4.0 in /home/rahul/anaconda3/lib/python3.9/site-packages (from ibm-cloud-sdk-core==3.*,>=3.3.6->ibm-watson) (2.4.0)\n",
      "Requirement already satisfied: urllib3<2.0.0,>=1.26.0 in /home/rahul/anaconda3/lib/python3.9/site-packages (from ibm-cloud-sdk-core==3.*,>=3.3.6->ibm-watson) (1.26.11)\n",
      "Requirement already satisfied: six>=1.5 in /home/rahul/anaconda3/lib/python3.9/site-packages (from python-dateutil>=2.5.3->ibm-watson) (1.16.0)\n",
      "Requirement already satisfied: certifi>=2017.4.17 in /home/rahul/anaconda3/lib/python3.9/site-packages (from requests<3.0,>=2.0->ibm-watson) (2020.12.5)\n",
      "Requirement already satisfied: idna<4,>=2.5 in /home/rahul/anaconda3/lib/python3.9/site-packages (from requests<3.0,>=2.0->ibm-watson) (3.3)\n",
      "Requirement already satisfied: charset-normalizer<3,>=2 in /home/rahul/anaconda3/lib/python3.9/site-packages (from requests<3.0,>=2.0->ibm-watson) (2.0.4)\n",
      "Note: you may need to restart the kernel to use updated packages.\n"
     ]
    }
   ],
   "source": [
    "pip install ibm-watson"
   ]
  },
  {
   "cell_type": "code",
   "execution_count": 20,
   "id": "60b2cab3",
   "metadata": {},
   "outputs": [],
   "source": [
    "import subprocess\n",
    "from ibm_watson import SpeechToTextV1\n",
    "from ibm_watson.websocket import RecognizeCallback, AudioSource\n",
    "from ibm_cloud_sdk_core.authenticators import IAMAuthenticator\n"
   ]
  },
  {
   "cell_type": "code",
   "execution_count": 23,
   "id": "23db2744",
   "metadata": {},
   "outputs": [
    {
     "name": "stderr",
     "output_type": "stream",
     "text": [
      "ffmpeg version 4.4.2-0ubuntu0.22.04.1 Copyright (c) 2000-2021 the FFmpeg developers\n",
      "  built with gcc 11 (Ubuntu 11.2.0-19ubuntu1)\n",
      "  configuration: --prefix=/usr --extra-version=0ubuntu0.22.04.1 --toolchain=hardened --libdir=/usr/lib/x86_64-linux-gnu --incdir=/usr/include/x86_64-linux-gnu --arch=amd64 --enable-gpl --disable-stripping --enable-gnutls --enable-ladspa --enable-libaom --enable-libass --enable-libbluray --enable-libbs2b --enable-libcaca --enable-libcdio --enable-libcodec2 --enable-libdav1d --enable-libflite --enable-libfontconfig --enable-libfreetype --enable-libfribidi --enable-libgme --enable-libgsm --enable-libjack --enable-libmp3lame --enable-libmysofa --enable-libopenjpeg --enable-libopenmpt --enable-libopus --enable-libpulse --enable-librabbitmq --enable-librubberband --enable-libshine --enable-libsnappy --enable-libsoxr --enable-libspeex --enable-libsrt --enable-libssh --enable-libtheora --enable-libtwolame --enable-libvidstab --enable-libvorbis --enable-libvpx --enable-libwebp --enable-libx265 --enable-libxml2 --enable-libxvid --enable-libzimg --enable-libzmq --enable-libzvbi --enable-lv2 --enable-omx --enable-openal --enable-opencl --enable-opengl --enable-sdl2 --enable-pocketsphinx --enable-librsvg --enable-libmfx --enable-libdc1394 --enable-libdrm --enable-libiec61883 --enable-chromaprint --enable-frei0r --enable-libx264 --enable-shared\n",
      "  libavutil      56. 70.100 / 56. 70.100\n",
      "  libavcodec     58.134.100 / 58.134.100\n",
      "  libavformat    58. 76.100 / 58. 76.100\n",
      "  libavdevice    58. 13.100 / 58. 13.100\n",
      "  libavfilter     7.110.100 /  7.110.100\n",
      "  libswscale      5.  9.100 /  5.  9.100\n",
      "  libswresample   3.  9.100 /  3.  9.100\n",
      "  libpostproc    55.  9.100 / 55.  9.100\n",
      "Input #0, mov,mp4,m4a,3gp,3g2,mj2, from 'test.mp4':\n",
      "  Metadata:\n",
      "    major_brand     : isom\n",
      "    minor_version   : 512\n",
      "    compatible_brands: isomiso2avc1mp41\n",
      "    title           : 11.OOPSWebinarIIVectorsandCSTL\n",
      "  Duration: 01:59:21.76, start: 0.000000, bitrate: 127 kb/s\n",
      "  Stream #0:0(und): Video: h264 (High) (avc1 / 0x31637661), yuv420p, 1920x1080, 67 kb/s, 7.46 fps, 7.46 tbr, 16k tbn, 14.93 tbc (default)\n",
      "    Metadata:\n",
      "      handler_name    : VideoHandler\n",
      "      vendor_id       : [0][0][0][0]\n",
      "  Stream #0:1(und): Audio: aac (LC) (mp4a / 0x6134706D), 16000 Hz, mono, fltp, 58 kb/s (default)\n",
      "    Metadata:\n",
      "      handler_name    : SoundHandler\n",
      "      vendor_id       : [0][0][0][0]\n",
      "Stream mapping:\n",
      "  Stream #0:1 -> #0:0 (aac (native) -> pcm_s16le (native))\n",
      "Press [q] to stop, [?] for help\n",
      "Output #0, wav, to 'audio.wav':\n",
      "  Metadata:\n",
      "    major_brand     : isom\n",
      "    minor_version   : 512\n",
      "    compatible_brands: isomiso2avc1mp41\n",
      "    INAM            : 11.OOPSWebinarIIVectorsandCSTL\n",
      "    ISFT            : Lavf58.76.100\n",
      "  Stream #0:0(und): Audio: pcm_s16le ([1][0][0][0] / 0x0001), 44100 Hz, mono, s16, 705 kb/s (default)\n",
      "    Metadata:\n",
      "      handler_name    : SoundHandler\n",
      "      vendor_id       : [0][0][0][0]\n",
      "      encoder         : Lavc58.134.100 pcm_s16le\n",
      "size=  616843kB time=01:59:21.53 bitrate= 705.6kbits/s speed=1.09e+03x    \n",
      "video:0kB audio:616843kB subtitle:0kB other streams:0kB global headers:0kB muxing overhead: 0.000019%\n"
     ]
    },
    {
     "data": {
      "text/plain": [
       "0"
      ]
     },
     "execution_count": 23,
     "metadata": {},
     "output_type": "execute_result"
    }
   ],
   "source": [
    "command = 'ffmpeg -i test.mp4 -ab 160k -ar 44100 -vn audio.wav'\n",
    "subprocess.call(command, shell=True)\n"
   ]
  }
 ],
 "metadata": {
  "kernelspec": {
   "display_name": "Python 3 (ipykernel)",
   "language": "python",
   "name": "python3"
  },
  "language_info": {
   "codemirror_mode": {
    "name": "ipython",
    "version": 3
   },
   "file_extension": ".py",
   "mimetype": "text/x-python",
   "name": "python",
   "nbconvert_exporter": "python",
   "pygments_lexer": "ipython3",
   "version": "3.9.13"
  }
 },
 "nbformat": 4,
 "nbformat_minor": 5
}
